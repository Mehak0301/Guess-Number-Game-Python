{
 "cells": [
  {
   "cell_type": "code",
   "execution_count": null,
   "id": "3ab5d464",
   "metadata": {},
   "outputs": [],
   "source": [
    "import random\n",
    "from random import randint\n",
    "logo = \"\"\"\n",
    "   _   _   _   _   _  \n",
    "  / \\ / \\ / \\ / \\ / \\ \n",
    " ( G | U | E | S | S )\n",
    "  \\_/ \\_/ \\_/ \\_/ \\_/ \n",
    "\"\"\"\n",
    "\n",
    "EASY_LEVEL_TURNS = 10\n",
    "DIFFICULT_LEVEL_TURN = 5\n",
    "\n",
    "\n",
    "def check_answer(guess, answer, turns) :\n",
    "    if guess > answer:\n",
    "     print(\"Too high.\")\n",
    "     return turns - 1\n",
    "    elif guess < answer:\n",
    "     print(\"Too low.\")\n",
    "     return turns - 1\n",
    "    else:\n",
    "     print(f\"You got it! The answer was {answer}.\")\n",
    "\n",
    "def set_difficulty() :\n",
    "    level = input(\"Choose a difficulty. Type 'easy' or 'hard':\")\n",
    "    if level == \"easy\" :\n",
    "        return EASY_LEVEL_TURNS\n",
    "    if level == \"hard\" :\n",
    "        return DIFFICULT_LEVEL_TURNS\n",
    "def game():\n",
    "    print(logo)\n",
    "    print(\"Welcome to the Number Guessing Game!\")\n",
    "    print(\"I'm thinking of a number between 1 and 100.\")\n",
    "    answer = randint(1, 100)\n",
    "    print(f\"Pssst, the correct answer is {answer}\") \n",
    "    \n",
    "    turns = set_difficulty()\n",
    "    \n",
    "    guess = 0\n",
    "    while guess != answer :\n",
    "     print(f\"You have {turns} attempts remaining to guess the number.\")\n",
    "     guess = int(input(\"Make a guess: \"))\n",
    "     turns = check_answer(guess, answer, turns)\n",
    "    if turns == 0:\n",
    "      print(\"You've run out of guesses, you lose.\")\n",
    "     \n",
    "    elif guess != answer:\n",
    "      print(\"Guess again.\")\n",
    "    \n",
    "    \n",
    "game()\n",
    "\n"
   ]
  },
  {
   "cell_type": "code",
   "execution_count": null,
   "id": "f5f179e2",
   "metadata": {},
   "outputs": [],
   "source": []
  },
  {
   "cell_type": "code",
   "execution_count": null,
   "id": "61043b27",
   "metadata": {},
   "outputs": [],
   "source": []
  }
 ],
 "metadata": {
  "kernelspec": {
   "display_name": "Python 3 (ipykernel)",
   "language": "python",
   "name": "python3"
  },
  "language_info": {
   "codemirror_mode": {
    "name": "ipython",
    "version": 3
   },
   "file_extension": ".py",
   "mimetype": "text/x-python",
   "name": "python",
   "nbconvert_exporter": "python",
   "pygments_lexer": "ipython3",
   "version": "3.9.13"
  }
 },
 "nbformat": 4,
 "nbformat_minor": 5
}
